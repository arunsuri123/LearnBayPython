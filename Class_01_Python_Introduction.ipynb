{
 "cells": [
  {
   "cell_type": "code",
   "execution_count": null,
   "metadata": {},
   "outputs": [],
   "source": [
    "# jupyter notebook\n",
    "\n",
    "What is Python?\n",
    "Python is Interpreted Programming Language\n",
    "\n",
    "\n"
   ]
  },
  {
   "cell_type": "code",
   "execution_count": null,
   "metadata": {},
   "outputs": [],
   "source": [
    "What is Programming Language? Why do we need Programming Language?\n",
    "\n",
    "Type Of language\n",
    "    1. Low level - Machine Language(Binary Code), Assembly code\n",
    "    2. High level - C, C++, Java, Python, JS, Php, \n",
    "\n"
   ]
  },
  {
   "cell_type": "code",
   "execution_count": 1,
   "metadata": {
    "ExecuteTime": {
     "end_time": "2021-05-02T07:50:25.615041Z",
     "start_time": "2021-05-02T07:50:22.117382Z"
    }
   },
   "outputs": [
    {
     "name": "stdout",
     "output_type": "stream",
     "text": [
      "Enter 1st Number: 100\n",
      "Enter 2nd Number: 200\n",
      "300\n"
     ]
    }
   ],
   "source": [
    "num1 = int(input('Enter 1st Number: '))\n",
    "num2 = int(input('Enter 2nd Number: '))\n",
    "print(num1+num2)"
   ]
  },
  {
   "cell_type": "code",
   "execution_count": null,
   "metadata": {},
   "outputs": [],
   "source": [
    "num2 = input('Enter 2nd Number: ');\n",
    "print(num1+num2)"
   ]
  },
  {
   "cell_type": "code",
   "execution_count": null,
   "metadata": {
    "ExecuteTime": {
     "end_time": "2021-05-02T08:09:34.681158Z",
     "start_time": "2021-05-02T08:09:34.673249Z"
    }
   },
   "outputs": [],
   "source": [
    "# Syntax - set of defined rules\n",
    "\n",
    "a = 10\n",
    "b = 20\n",
    "c = a+b\n",
    "print(c)\n",
    "print(a\n",
    "print(b)"
   ]
  },
  {
   "cell_type": "code",
   "execution_count": 4,
   "metadata": {
    "ExecuteTime": {
     "end_time": "2021-05-02T08:10:14.295953Z",
     "start_time": "2021-05-02T08:10:14.282916Z"
    }
   },
   "outputs": [
    {
     "ename": "IndentationError",
     "evalue": "unexpected indent (<ipython-input-4-b1b3f829f511>, line 6)",
     "output_type": "error",
     "traceback": [
      "\u001b[1;36m  File \u001b[1;32m\"<ipython-input-4-b1b3f829f511>\"\u001b[1;36m, line \u001b[1;32m6\u001b[0m\n\u001b[1;33m    print(a)\u001b[0m\n\u001b[1;37m    ^\u001b[0m\n\u001b[1;31mIndentationError\u001b[0m\u001b[1;31m:\u001b[0m unexpected indent\n"
     ]
    }
   ],
   "source": [
    "# Indentation Error\n",
    "a = 10\n",
    "b = 20\n",
    "c = a+b\n",
    "print(c)\n",
    " print(a)\n",
    "print(b)"
   ]
  },
  {
   "cell_type": "code",
   "execution_count": 8,
   "metadata": {
    "ExecuteTime": {
     "end_time": "2021-05-02T08:10:53.778635Z",
     "start_time": "2021-05-02T08:10:53.605291Z"
    }
   },
   "outputs": [
    {
     "name": "stdout",
     "output_type": "stream",
     "text": [
      "30\n",
      "10\n"
     ]
    },
    {
     "ename": "NameError",
     "evalue": "name 'd' is not defined",
     "output_type": "error",
     "traceback": [
      "\u001b[1;31m---------------------------------------------------------------------------\u001b[0m",
      "\u001b[1;31mNameError\u001b[0m                                 Traceback (most recent call last)",
      "\u001b[1;32m<ipython-input-8-3247eb03cf4d>\u001b[0m in \u001b[0;36m<module>\u001b[1;34m\u001b[0m\n\u001b[0;32m      5\u001b[0m \u001b[0mprint\u001b[0m\u001b[1;33m(\u001b[0m\u001b[0mc\u001b[0m\u001b[1;33m)\u001b[0m\u001b[1;33m\u001b[0m\u001b[1;33m\u001b[0m\u001b[0m\n\u001b[0;32m      6\u001b[0m \u001b[0mprint\u001b[0m\u001b[1;33m(\u001b[0m\u001b[0ma\u001b[0m\u001b[1;33m)\u001b[0m\u001b[1;33m\u001b[0m\u001b[1;33m\u001b[0m\u001b[0m\n\u001b[1;32m----> 7\u001b[1;33m \u001b[0mprint\u001b[0m\u001b[1;33m(\u001b[0m\u001b[0md\u001b[0m\u001b[1;33m)\u001b[0m\u001b[1;33m\u001b[0m\u001b[1;33m\u001b[0m\u001b[0m\n\u001b[0m\u001b[0;32m      8\u001b[0m \u001b[0mprint\u001b[0m\u001b[1;33m(\u001b[0m\u001b[0mb\u001b[0m\u001b[1;33m)\u001b[0m\u001b[1;33m\u001b[0m\u001b[1;33m\u001b[0m\u001b[0m\n",
      "\u001b[1;31mNameError\u001b[0m: name 'd' is not defined"
     ]
    }
   ],
   "source": [
    "# run time Error\n",
    "a = 10\n",
    "b = 20\n",
    "c = a+b\n",
    "print(c)\n",
    "print(a)\n",
    "print(d)\n",
    "print(b)"
   ]
  },
  {
   "cell_type": "code",
   "execution_count": null,
   "metadata": {},
   "outputs": [],
   "source": [
    "# 1. If there is any compile time Error in source code then byte code will not be created\n",
    "# 2. If there is no compile time error but run time error then byte code will be created - Partial execution of the code\n",
    "# 3. If there is not compile time and run time error then also byte code will be created"
   ]
  },
  {
   "cell_type": "code",
   "execution_count": null,
   "metadata": {},
   "outputs": [],
   "source": [
    "# Python features\n",
    "1. Python is Interpreted Programming Language\n",
    "2. Python is Dynamically Typed Programming Language\n",
    "3. Python is Portable(Source code) and pltaform independent(Byte code).\n",
    "4. Python is General Purpose Programming Language\n",
    "    1. Web App\n",
    "    2. Desktop\n",
    "    3. AI/ML\n",
    "    4. Iot/Embedded \n",
    "    5. Analysis\n",
    "    6. testing or Automation\n",
    "    7. Gaming app\n",
    "5. Python is Extensible(Extending the code from other PL to Python) and Embedded(Python code can be embedded into other PL).\n",
    "\n",
    "\n",
    "\n"
   ]
  },
  {
   "cell_type": "code",
   "execution_count": 12,
   "metadata": {
    "ExecuteTime": {
     "end_time": "2021-05-02T08:30:33.919522Z",
     "start_time": "2021-05-02T08:30:33.907687Z"
    }
   },
   "outputs": [
    {
     "name": "stdout",
     "output_type": "stream",
     "text": [
      "28 <class 'int'>\n",
      "72 <class 'int'>\n",
      "Python <class 'str'>\n"
     ]
    }
   ],
   "source": [
    "# Statically Typed Programming Language - C, C++, Java - Data Type - \n",
    "#     Amount of Memory\n",
    "#         byte - 1 byte\n",
    "#         short - 2 byte - 10\n",
    "#         int - 4 byte - 250\n",
    "#         long - 8 byte - \n",
    "\n",
    "\n",
    "\n",
    "# Dynamically Typed Programming Language - Python - \n",
    "import sys\n",
    "a = 10\n",
    "print(sys.getsizeof(a), type(a))\n",
    "a = 100000000000000000000000000000000000000000000000000000000000000000000000000000000000000000000000000000000\n",
    "print(sys.getsizeof(a), type(a))\n",
    "a = 'Python'\n",
    "print(a, type(a))\n",
    "\n",
    "\n",
    "\n",
    "\n"
   ]
  },
  {
   "cell_type": "code",
   "execution_count": null,
   "metadata": {},
   "outputs": [],
   "source": [
    "All High level Programming Languages are portable\n",
    "Low level Programming languages are not portable.\n",
    "\n",
    "\n"
   ]
  },
  {
   "cell_type": "code",
   "execution_count": null,
   "metadata": {},
   "outputs": [],
   "source": [
    "# Memory Management in Python - Automatic\n",
    "    Memory Allocation - \n",
    "    Memory Deallocation"
   ]
  },
  {
   "cell_type": "code",
   "execution_count": null,
   "metadata": {},
   "outputs": [],
   "source": [
    "# memory menegament tools in Python\n",
    "    Raw Memory Allocator - Top level Memory management tool and works at the application level\n",
    "    Object Specific Allocator - It works along with PVM and helps PVM to allocate the memory for different object\n",
    "    # Also it handles the pecularities of memory management policies adopted by different objects in python\n",
    "    Python Virtual Machine - HANDLES THE HEAP AREA"
   ]
  },
  {
   "cell_type": "code",
   "execution_count": null,
   "metadata": {},
   "outputs": [],
   "source": [
    "int\n",
    "float"
   ]
  },
  {
   "cell_type": "code",
   "execution_count": 13,
   "metadata": {
    "ExecuteTime": {
     "end_time": "2021-05-02T08:46:42.052768Z",
     "start_time": "2021-05-02T08:46:42.028943Z"
    }
   },
   "outputs": [
    {
     "data": {
      "text/plain": [
       "28"
      ]
     },
     "execution_count": 13,
     "metadata": {},
     "output_type": "execute_result"
    }
   ],
   "source": [
    "a = 10\n",
    "sys.getsizeof(a)"
   ]
  },
  {
   "cell_type": "code",
   "execution_count": 14,
   "metadata": {
    "ExecuteTime": {
     "end_time": "2021-05-02T08:46:52.801154Z",
     "start_time": "2021-05-02T08:46:52.789697Z"
    }
   },
   "outputs": [
    {
     "data": {
      "text/plain": [
       "72"
      ]
     },
     "execution_count": 14,
     "metadata": {},
     "output_type": "execute_result"
    }
   ],
   "source": [
    "a = 100000000000000000000000000000000000000000000000000000000000000000000000000000000000000000000000000000000\n",
    "sys.getsizeof(a)"
   ]
  },
  {
   "cell_type": "code",
   "execution_count": 15,
   "metadata": {
    "ExecuteTime": {
     "end_time": "2021-05-02T08:47:04.785382Z",
     "start_time": "2021-05-02T08:47:04.775231Z"
    }
   },
   "outputs": [
    {
     "data": {
      "text/plain": [
       "24"
      ]
     },
     "execution_count": 15,
     "metadata": {},
     "output_type": "execute_result"
    }
   ],
   "source": [
    "b = 10.20\n",
    "sys.getsizeof(b)"
   ]
  },
  {
   "cell_type": "code",
   "execution_count": 16,
   "metadata": {
    "ExecuteTime": {
     "end_time": "2021-05-02T08:47:19.473192Z",
     "start_time": "2021-05-02T08:47:19.463784Z"
    }
   },
   "outputs": [
    {
     "data": {
      "text/plain": [
       "24"
      ]
     },
     "execution_count": 16,
     "metadata": {},
     "output_type": "execute_result"
    }
   ],
   "source": [
    "b = 100000000000000000000000000000000000000000000000000000000000000000000000000000000000000000000000000000000.298462374\n",
    "sys.getsizeof(b)"
   ]
  },
  {
   "cell_type": "code",
   "execution_count": 17,
   "metadata": {
    "ExecuteTime": {
     "end_time": "2021-05-02T09:32:48.927896Z",
     "start_time": "2021-05-02T09:32:48.919032Z"
    }
   },
   "outputs": [
    {
     "name": "stdout",
     "output_type": "stream",
     "text": [
      "30\n"
     ]
    }
   ],
   "source": [
    "a = 10\n",
    "b = 20\n",
    "c = a+b\n",
    "print(c)"
   ]
  },
  {
   "cell_type": "code",
   "execution_count": 26,
   "metadata": {
    "ExecuteTime": {
     "end_time": "2021-05-02T09:49:02.655704Z",
     "start_time": "2021-05-02T09:49:02.641765Z"
    }
   },
   "outputs": [
    {
     "name": "stdout",
     "output_type": "stream",
     "text": [
      "10 10\n",
      "30 10\n",
      "11 22 200 100 10\n",
      "200 100 10\n",
      "30 10\n"
     ]
    }
   ],
   "source": [
    "a = 10\n",
    "b = a\n",
    "print(a,b)\n",
    "a = 30\n",
    "print(a,b)\n",
    "def f1():\n",
    "    x = 100\n",
    "    a = 200\n",
    "    def f2():\n",
    "        m = 11\n",
    "        n = 22\n",
    "        print(m,n,a,x,b)\n",
    "    f2()\n",
    "    print(a,x,b)\n",
    "f1()\n",
    "print(a,b)"
   ]
  },
  {
   "cell_type": "code",
   "execution_count": null,
   "metadata": {},
   "outputs": [],
   "source": [
    "# Memory deallocation - Deallocating the memory for the object\n",
    "# Internally Python runs a garbage collector module - gc module\n",
    "# Checks the reference count == 0"
   ]
  },
  {
   "cell_type": "code",
   "execution_count": null,
   "metadata": {},
   "outputs": [],
   "source": [
    "a = 10\n",
    "b = 10\n",
    "c = 10\n"
   ]
  },
  {
   "cell_type": "code",
   "execution_count": null,
   "metadata": {},
   "outputs": [],
   "source": [
    "# Python implementation\n",
    "    Cpython \n",
    "    Jython\n",
    "    Iron Python\n",
    "    Ruby Python\n",
    "    PyPy - Object Reusability\n",
    "    Stackless\n",
    "    Anaconda Python"
   ]
  },
  {
   "cell_type": "code",
   "execution_count": null,
   "metadata": {},
   "outputs": [],
   "source": [
    "Python Components\n",
    "    Literal, \n",
    "    Constant\n",
    "    Variables\n",
    "    Identifier\n",
    "    Reserved Words\n",
    "    Block and Indentation\n",
    "    Expressions and Statmenet\n",
    "    Comments\n",
    "    Data Types"
   ]
  }
 ],
 "metadata": {
  "kernelspec": {
   "display_name": "Python 3",
   "language": "python",
   "name": "python3"
  },
  "language_info": {
   "codemirror_mode": {
    "name": "ipython",
    "version": 3
   },
   "file_extension": ".py",
   "mimetype": "text/x-python",
   "name": "python",
   "nbconvert_exporter": "python",
   "pygments_lexer": "ipython3",
   "version": "3.8.5"
  },
  "latex_envs": {
   "LaTeX_envs_menu_present": true,
   "autoclose": false,
   "autocomplete": true,
   "bibliofile": "biblio.bib",
   "cite_by": "apalike",
   "current_citInitial": 1,
   "eqLabelWithNumbers": true,
   "eqNumInitial": 1,
   "hotkeys": {
    "equation": "Ctrl-E",
    "itemize": "Ctrl-I"
   },
   "labels_anchors": false,
   "latex_user_defs": false,
   "report_style_numbering": false,
   "user_envs_cfg": false
  },
  "varInspector": {
   "cols": {
    "lenName": 16,
    "lenType": 16,
    "lenVar": 40
   },
   "kernels_config": {
    "python": {
     "delete_cmd_postfix": "",
     "delete_cmd_prefix": "del ",
     "library": "var_list.py",
     "varRefreshCmd": "print(var_dic_list())"
    },
    "r": {
     "delete_cmd_postfix": ") ",
     "delete_cmd_prefix": "rm(",
     "library": "var_list.r",
     "varRefreshCmd": "cat(var_dic_list()) "
    }
   },
   "types_to_exclude": [
    "module",
    "function",
    "builtin_function_or_method",
    "instance",
    "_Feature"
   ],
   "window_display": false
  }
 },
 "nbformat": 4,
 "nbformat_minor": 2
}
