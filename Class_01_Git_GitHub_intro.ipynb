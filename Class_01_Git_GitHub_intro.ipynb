{
 "cells": [
  {
   "cell_type": "code",
   "execution_count": 3,
   "metadata": {
    "ExecuteTime": {
     "end_time": "2021-05-01T07:34:46.261988Z",
     "start_time": "2021-05-01T07:34:46.251921Z"
    }
   },
   "outputs": [],
   "source": [
    "# As interpreter\n",
    "# AS IDE"
   ]
  },
  {
   "cell_type": "code",
   "execution_count": 6,
   "metadata": {
    "ExecuteTime": {
     "end_time": "2021-05-01T07:34:46.283779Z",
     "start_time": "2021-05-01T07:34:46.275850Z"
    }
   },
   "outputs": [
    {
     "name": "stdout",
     "output_type": "stream",
     "text": [
      "Hello Test\n"
     ]
    }
   ],
   "source": [
    "print('Hello Test')"
   ]
  },
  {
   "cell_type": "code",
   "execution_count": 5,
   "metadata": {
    "ExecuteTime": {
     "end_time": "2021-05-01T07:34:46.312084Z",
     "start_time": "2021-05-01T07:34:46.295465Z"
    }
   },
   "outputs": [],
   "source": [
    "a = 100"
   ]
  },
  {
   "cell_type": "code",
   "execution_count": 6,
   "metadata": {
    "ExecuteTime": {
     "end_time": "2021-05-01T07:34:46.334880Z",
     "start_time": "2021-05-01T07:34:46.316722Z"
    }
   },
   "outputs": [],
   "source": [
    "b = 200"
   ]
  },
  {
   "cell_type": "code",
   "execution_count": 1,
   "metadata": {
    "ExecuteTime": {
     "end_time": "2021-05-01T07:34:46.355150Z",
     "start_time": "2021-05-01T07:34:46.346444Z"
    }
   },
   "outputs": [
    {
     "ename": "NameError",
     "evalue": "name 'a' is not defined",
     "output_type": "error",
     "traceback": [
      "\u001b[1;31m---------------------------------------------------------------------------\u001b[0m",
      "\u001b[1;31mNameError\u001b[0m                                 Traceback (most recent call last)",
      "\u001b[1;32m<ipython-input-1-b1e8dc0cb8d3>\u001b[0m in \u001b[0;36m<module>\u001b[1;34m\u001b[0m\n\u001b[1;32m----> 1\u001b[1;33m \u001b[0mc\u001b[0m \u001b[1;33m=\u001b[0m \u001b[0ma\u001b[0m\u001b[1;33m+\u001b[0m\u001b[0mb\u001b[0m\u001b[1;33m\u001b[0m\u001b[1;33m\u001b[0m\u001b[0m\n\u001b[0m",
      "\u001b[1;31mNameError\u001b[0m: name 'a' is not defined"
     ]
    }
   ],
   "source": [
    "c = a+b"
   ]
  },
  {
   "cell_type": "code",
   "execution_count": 2,
   "metadata": {
    "ExecuteTime": {
     "end_time": "2021-05-01T07:34:46.365580Z",
     "start_time": "2021-05-01T07:34:46.358974Z"
    }
   },
   "outputs": [
    {
     "ename": "NameError",
     "evalue": "name 'c' is not defined",
     "output_type": "error",
     "traceback": [
      "\u001b[1;31m---------------------------------------------------------------------------\u001b[0m",
      "\u001b[1;31mNameError\u001b[0m                                 Traceback (most recent call last)",
      "\u001b[1;32m<ipython-input-2-1dd5973cae19>\u001b[0m in \u001b[0;36m<module>\u001b[1;34m\u001b[0m\n\u001b[1;32m----> 1\u001b[1;33m \u001b[0mprint\u001b[0m\u001b[1;33m(\u001b[0m\u001b[0mc\u001b[0m\u001b[1;33m)\u001b[0m\u001b[1;33m\u001b[0m\u001b[1;33m\u001b[0m\u001b[0m\n\u001b[0m",
      "\u001b[1;31mNameError\u001b[0m: name 'c' is not defined"
     ]
    }
   ],
   "source": [
    "print(c)"
   ]
  },
  {
   "cell_type": "code",
   "execution_count": 3,
   "metadata": {
    "ExecuteTime": {
     "end_time": "2021-05-01T07:34:46.374715Z",
     "start_time": "2021-05-01T07:34:46.369197Z"
    }
   },
   "outputs": [
    {
     "name": "stdout",
     "output_type": "stream",
     "text": [
      "30\n"
     ]
    }
   ],
   "source": [
    "a = 10\n",
    "b = 20\n",
    "c = a+b\n",
    "print(c)"
   ]
  },
  {
   "cell_type": "markdown",
   "metadata": {
    "ExecuteTime": {
     "end_time": "2021-05-01T07:34:46.929063Z",
     "start_time": "2021-05-01T07:34:46.379719Z"
    }
   },
   "source": [
    "import numpy as np\n",
    "import matplotlib.pyplot as plt\n",
    "\n",
    "arr1 = np.array([1,2,3,4,5,6])\n",
    "plt.plot(arr1)"
   ]
  },
  {
   "cell_type": "markdown",
   "metadata": {},
   "source": [
    "# numpy - \n",
    "    Numpy is a package in Python whic deals with multidimensional array"
   ]
  },
  {
   "cell_type": "code",
   "execution_count": 11,
   "metadata": {},
   "outputs": [],
   "source": [
    "# Modes of Operation\n",
    "#     1. Command Mode - Blue Color - esc - We can do the operations on cell, moving, up/down, adding/removing a cell\n",
    "#     2. Edit Mode - Green Color - enter - we edit into a cell\n",
    "\n",
    "# In command Mode\n",
    "# To add a cell - a -> (To add the cell above)\n",
    "#                 b -> (To add a cell below)\n",
    "#                 x -> Delete a cell\n",
    "#                 shift + enter - run a cell\n"
   ]
  },
  {
   "cell_type": "code",
   "execution_count": 12,
   "metadata": {},
   "outputs": [
    {
     "ename": "SyntaxError",
     "evalue": "invalid syntax (<ipython-input-12-b556281c49f7>, line 2)",
     "output_type": "error",
     "traceback": [
      "\u001b[1;36m  File \u001b[1;32m\"<ipython-input-12-b556281c49f7>\"\u001b[1;36m, line \u001b[1;32m2\u001b[0m\n\u001b[1;33m    Git - VCS - Version Control System - Distributed VCS\u001b[0m\n\u001b[1;37m                        ^\u001b[0m\n\u001b[1;31mSyntaxError\u001b[0m\u001b[1;31m:\u001b[0m invalid syntax\n"
     ]
    }
   ],
   "source": [
    "# Git & Git Hub - Introduction\n",
    "Git - VCS - Version Control System - Distributed VCS\n",
    "# It is also called a mini file tracking system\n",
    "# It maintains the history, it is easy to retrieve the changes\n",
    "# keeps track of the files and changes\n",
    "# Keep detailed version fo the files\n",
    "# 90% project around the globe - git\n",
    "\n",
    "# Centralized VCS\n",
    "# Distributed VCS\n",
    "\n",
    "\n",
    "\n"
   ]
  },
  {
   "cell_type": "code",
   "execution_count": null,
   "metadata": {},
   "outputs": [],
   "source": [
    "add - Index area or Staging area\n",
    "commit - Local repo\n",
    "push - Saving the code in cloud\n",
    "pull - pulling the changes from remote repo\n",
    "liking the local file to remote repo\n"
   ]
  },
  {
   "cell_type": "code",
   "execution_count": null,
   "metadata": {},
   "outputs": [],
   "source": [
    "Windows user - git bash\n",
    "mac - terminal"
   ]
  },
  {
   "cell_type": "code",
   "execution_count": null,
   "metadata": {},
   "outputs": [],
   "source": [
    "# Os Commands:-\n",
    "pwd -> Present Working directory\n",
    "ls -> lists all files and folders in currnet directory\n",
    "ls -al -> lists all files and folders in currnet directory including hiiden files\n",
    "cd .. -> Move one directory back\n",
    "cd Directory_Name/Path -> Move to Specified directory availbale in CWD\n",
    "mkdir Directory_Name -> Creates a directory with specified name\n",
    "mv 'src directory name' 'dst directory name' - moves\n",
    "rmdir Dir_name - removes directory\n",
    "\n",
    "\n",
    "# Git Commands:-\n",
    "For set up\n",
    "git config --global user.name User_name_in_quotation_if_space_in_name\n",
    "git config --global user.email User_email_id\n",
    "git config --global core.autocrlf true(Win)/input(Mac)\n",
    "git config --global --list\n",
    "\n",
    "\n",
    "git clone Repo_link -> Clones the repository from cloud to your local system\n",
    "git status - to check the status of the repo\n",
    "git add Dir_name/FileName_with_Extension - Move the file to staging area\n",
    "git commit - m 'msg' - move the file to local repo with the msg\n",
    "git push - push the code to cloud repo (Will ask for credentail while doing first time)\n",
    "gil pull - pulling all the changes from your cloud repo to local repo\n",
    "\n",
    "\n",
    "# File realted operation\n",
    "To open a file from CLI - vim filename.ext\n",
    "to go into insert mode - press 'i'\n",
    "to save and exit - press - 'esc' , :wq\n",
    "\n",
    "\n",
    "\n",
    "\n"
   ]
  },
  {
   "cell_type": "code",
   "execution_count": 13,
   "metadata": {},
   "outputs": [
    {
     "ename": "SyntaxError",
     "evalue": "invalid syntax (<ipython-input-13-807555916753>, line 4)",
     "output_type": "error",
     "traceback": [
      "\u001b[1;36m  File \u001b[1;32m\"<ipython-input-13-807555916753>\"\u001b[1;36m, line \u001b[1;32m4\u001b[0m\n\u001b[1;33m    Abhishek\t\tLibrary\t\t\tPublic\u001b[0m\n\u001b[1;37m            \t\t^\u001b[0m\n\u001b[1;31mSyntaxError\u001b[0m\u001b[1;31m:\u001b[0m invalid syntax\n"
     ]
    }
   ],
   "source": [
    "vigneshs-MacBook-Air% pwd\n",
    "/Users/vigneshkarthick\n",
    "vigneshs-MacBook-Air% ls\n",
    "Abhishek\t\tLibrary\t\t\tPublic\n",
    "Applications\t\tMEGAsync Downloads\tPycharmProjects\n",
    "Desktop\t\t\tMovies\t\t\t__pycache__\n",
    "Documents\t\tMusic\t\t\tanaconda3\n",
    "Downloads\t\tMy_Eshop\n",
    "IdeaProjects\t\tPictures\n",
    "\n",
    "vigneshs-MacBook-Air% cd Desktop\n",
    "\n",
    "vigneshs-MacBook-Air% pwd\n",
    "/Users/vigneshkarthick/Desktop\n",
    "\n",
    "vigneshs-MacBook-Air% mkdir My_Project\n",
    "\n",
    "vigneshs-MacBook-Air% ls\n",
    "My_Project\n",
    "Notes\n",
    "\n",
    "vigneshs-MacBook-Air% pwd\n",
    "/Users/vigneshkarthick/Desktop\n",
    "vigneshs-MacBook-Air% cd My_Project \n",
    "vigneshs-MacBook-Air% pwd\n",
    "/Users/vigneshkarthick/Desktop/My_Project\n",
    "\n",
    "vigneshs-MacBook-Air% pwd\n",
    "/Users/vigneshkarthick/Desktop/My_Project\n",
    "\n",
    "vigneshs-MacBook-Air% git init\n",
    "Initialized empty Git repository in /Users/vigneshkarthick/Desktop/My_Project/.git/\n",
    "\n",
    "vigneshs-MacBook-Air% ls -al\n",
    "total 0\n",
    "drwxr-xr-x   3 vigneshkarthick  staff    96 May  1 14:09 .\n",
    "drwx------+ 50 vigneshkarthick  staff  1600 May  1 13:52 ..\n",
    "drwxr-xr-x   9 vigneshkarthick  staff   288 May  1 14:09 .git\n",
    "    \n",
    "vigneshs-MacBook-Air% vim f1.py\n",
    "\n",
    "vigneshs-MacBook-Air% cat f1.py\n",
    "a = 10\n",
    "b = 20\n",
    "c = a+b\n",
    "print(c)\n",
    "\n",
    "vigneshs-MacBook-Air% touch f2.py\n",
    "\n",
    "vigneshs-MacBook-Air% ls\n",
    "f1.py\tf2.py\n",
    "\n",
    "vigneshs-MacBook-Air% echo 'Hello World' > f3.py\n",
    "\n",
    "vigneshs-MacBook-Air% ls\n",
    "f1.py\tf2.py\tf3.py\n",
    "\n",
    "vigneshs-MacBook-Air% cat f3.py\n",
    "Hello World\n",
    "\n",
    "vigneshs-MacBook-Air% touch f1.html\n",
    "\n",
    "vigneshs-MacBook-Air% touch f2.html\n",
    "\n",
    "vigneshs-MacBook-Air% touch f3.html\n",
    "\n",
    "vigneshs-MacBook-Air% touch f1.txt\n",
    "\n",
    "vigneshs-MacBook-Air% touch f2.txt\n",
    "\n",
    "vigneshs-MacBook-Air% touch f3.txt\n",
    "\n",
    "vigneshs-MacBook-Air% ls\n",
    "f1.html\tf1.py\tf1.txt\tf2.html\tf2.py\tf2.txt\tf3.html\tf3.py\tf3.txt\n",
    "\n",
    "vigneshs-MacBook-Air% git status\n",
    "On branch master\n",
    "\n",
    "No commits yet\n",
    "\n",
    "Untracked files:\n",
    "  (use \"git add <file>...\" to include in what will be committed)\n",
    "\tf1.html\n",
    "\tf1.py\n",
    "\tf1.txt\n",
    "\tf2.html\n",
    "\tf2.py\n",
    "\tf2.txt\n",
    "\tf3.html\n",
    "\tf3.py\n",
    "\tf3.txt\n",
    "\n",
    "nothing added to commit but untracked files present (use \"git add\" to track)\n",
    "vigneshs-MacBook-Air% git add f1.html\n",
    "vigneshs-MacBook-Air% git status     \n",
    "On branch master\n",
    "\n",
    "No commits yet\n",
    "\n",
    "Changes to be committed:\n",
    "  (use \"git rm --cached <file>...\" to unstage)\n",
    "\tnew file:   f1.html\n",
    "\n",
    "Untracked files:\n",
    "  (use \"git add <file>...\" to include in what will be committed)\n",
    "\tf1.py\n",
    "\tf1.txt\n",
    "\tf2.html\n",
    "\tf2.py\n",
    "\tf2.txt\n",
    "\tf3.html\n",
    "\tf3.py\n",
    "\tf3.txt\n",
    "\n",
    "vigneshs-MacBook-Air% git add f2.html f1.txt\n",
    "vigneshs-MacBook-Air% git status            \n",
    "On branch master\n",
    "\n",
    "No commits yet\n",
    "\n",
    "Changes to be committed:\n",
    "  (use \"git rm --cached <file>...\" to unstage)\n",
    "\tnew file:   f1.html\n",
    "\tnew file:   f1.txt\n",
    "\tnew file:   f2.html\n",
    "\n",
    "Untracked files:\n",
    "  (use \"git add <file>...\" to include in what will be committed)\n",
    "\tf1.py\n",
    "\tf2.py\n",
    "\tf2.txt\n",
    "\tf3.html\n",
    "\tf3.py\n",
    "\tf3.txt\n",
    "\n",
    "vigneshs-MacBook-Air% git add *.py\n",
    "vigneshs-MacBook-Air% git status  \n",
    "On branch master\n",
    "\n",
    "No commits yet\n",
    "\n",
    "Changes to be committed:\n",
    "  (use \"git rm --cached <file>...\" to unstage)\n",
    "\tnew file:   f1.html\n",
    "\tnew file:   f1.py\n",
    "\tnew file:   f1.txt\n",
    "\tnew file:   f2.html\n",
    "\tnew file:   f2.py\n",
    "\tnew file:   f3.py\n",
    "\n",
    "Untracked files:\n",
    "  (use \"git add <file>...\" to include in what will be committed)\n",
    "\tf2.txt\n",
    "\tf3.html\n",
    "\tf3.txt\n",
    "\n",
    "vigneshs-MacBook-Air% git add *\n",
    "vigneshs-MacBook-Air% git status\n",
    "On branch master\n",
    "\n",
    "No commits yet\n",
    "\n",
    "Changes to be committed:\n",
    "  (use \"git rm --cached <file>...\" to unstage)\n",
    "\tnew file:   f1.html\n",
    "\tnew file:   f1.py\n",
    "\tnew file:   f1.txt\n",
    "\tnew file:   f2.html\n",
    "\tnew file:   f2.py\n",
    "\tnew file:   f2.txt\n",
    "\tnew file:   f3.html\n",
    "\tnew file:   f3.py\n",
    "\tnew file:   f3.txt\n",
    "        \n",
    "        \n"
   ]
  },
  {
   "cell_type": "code",
   "execution_count": null,
   "metadata": {},
   "outputs": [],
   "source": []
  }
 ],
 "metadata": {
  "kernelspec": {
   "display_name": "Python 3",
   "language": "python",
   "name": "python3"
  },
  "language_info": {
   "codemirror_mode": {
    "name": "ipython",
    "version": 3
   },
   "file_extension": ".py",
   "mimetype": "text/x-python",
   "name": "python",
   "nbconvert_exporter": "python",
   "pygments_lexer": "ipython3",
   "version": "3.8.5"
  },
  "latex_envs": {
   "LaTeX_envs_menu_present": true,
   "autoclose": false,
   "autocomplete": true,
   "bibliofile": "biblio.bib",
   "cite_by": "apalike",
   "current_citInitial": 1,
   "eqLabelWithNumbers": true,
   "eqNumInitial": 1,
   "hotkeys": {
    "equation": "Ctrl-E",
    "itemize": "Ctrl-I"
   },
   "labels_anchors": false,
   "latex_user_defs": false,
   "report_style_numbering": false,
   "user_envs_cfg": false
  },
  "varInspector": {
   "cols": {
    "lenName": 16,
    "lenType": 16,
    "lenVar": 40
   },
   "kernels_config": {
    "python": {
     "delete_cmd_postfix": "",
     "delete_cmd_prefix": "del ",
     "library": "var_list.py",
     "varRefreshCmd": "print(var_dic_list())"
    },
    "r": {
     "delete_cmd_postfix": ") ",
     "delete_cmd_prefix": "rm(",
     "library": "var_list.r",
     "varRefreshCmd": "cat(var_dic_list()) "
    }
   },
   "types_to_exclude": [
    "module",
    "function",
    "builtin_function_or_method",
    "instance",
    "_Feature"
   ],
   "window_display": false
  }
 },
 "nbformat": 4,
 "nbformat_minor": 2
}
